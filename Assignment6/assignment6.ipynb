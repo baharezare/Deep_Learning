{
  "nbformat": 4,
  "nbformat_minor": 0,
  "metadata": {
    "colab": {
      "name": "assignment6.ipynb",
      "provenance": [],
      "collapsed_sections": []
    },
    "kernelspec": {
      "name": "python3",
      "display_name": "Python 3"
    },
    "language_info": {
      "name": "python"
    }
  },
  "cells": [
    {
      "cell_type": "markdown",
      "metadata": {
        "id": "KZZ0JR_5nCul"
      },
      "source": [
        "I have loaded the training data and filtered it because just I need 0 and 6. 0 as aregular class and 6 as outlier class(500 images). we have a standard denser and convolutional. That I have applied them on regular and outlier class. I put comments on the functions to clarify it.\n"
      ]
    },
    {
      "cell_type": "code",
      "metadata": {
        "id": "WFp9uepXESOh",
        "colab": {
          "base_uri": "https://localhost:8080/"
        },
        "outputId": "4b581b9e-1285-4a6b-d143-fb4e4005dee3"
      },
      "source": [
        "from keras.layers import Input, Dense, Conv2D, MaxPooling2D, UpSampling2D\n",
        "from keras.models import Model\n",
        "from tensorflow.keras.datasets import mnist\n",
        "import numpy as np\n",
        "from sklearn.model_selection import train_test_split\n",
        "import matplotlib.pyplot as plt\n",
        "(x_train,y_train),(_,_) = mnist.load_data()\n",
        "\n",
        "train_filter_6 = np.where((y_train == 6))\n",
        "train_filter_0 = np.where((y_train == 0))\n",
        "\n",
        "\n",
        "x0, y0 = x_train[train_filter_0],y_train[train_filter_0]\n",
        "x0_train, x0_test, y0_train, y0_test = train_test_split(x0, y0 ,test_size=0.1, random_state = 42)\n",
        "\n",
        "\n",
        "x6 , y6 = x_train[train_filter_6][:500],y_train[train_filter_6][:500]\n",
        "x6_train, x6_test, y6_train, y6_test = train_test_split(x6, y6, test_size=0.1, random_state = 42)\n",
        "\n"
      ],
      "execution_count": null,
      "outputs": [
        {
          "output_type": "stream",
          "text": [
            "Downloading data from https://storage.googleapis.com/tensorflow/tf-keras-datasets/mnist.npz\n",
            "11493376/11490434 [==============================] - 0s 0us/step\n"
          ],
          "name": "stdout"
        }
      ]
    },
    {
      "cell_type": "code",
      "metadata": {
        "colab": {
          "base_uri": "https://localhost:8080/"
        },
        "id": "52IMqAmdW1mu",
        "outputId": "2b450d0e-3ae7-40fc-de25-7532cd990cf5"
      },
      "source": [
        "import keras\n",
        "from keras import layers\n",
        "\n",
        "\n",
        "encoding_dim = 32 \n",
        "\n",
        "# This is our input image\n",
        "input_img = keras.Input(shape=(784,))\n",
        "\n",
        "\n",
        "# \"encoded\" is the encoded representation of the input\n",
        "encoded = layers.Dense(encoding_dim, activation='relu')(input_img)\n",
        "\n",
        "# \"decoded\" is the lossy reconstruction of the input\n",
        "decoded = layers.Dense(784, activation='sigmoid')(encoded)\n",
        "\n",
        "# This model maps an input to its reconstruction\n",
        "autoencoder = keras.Model(input_img, decoded)\n",
        "\n",
        "# This model maps an input to its encoded representation\n",
        "encoder = keras.Model(input_img, encoded)\n",
        "\n",
        "# This is our encoded (32-dimensional) input\n",
        "encoded_input = keras.Input(shape=(encoding_dim,))\n",
        "# Retrieve the last layer of the autoencoder model\n",
        "decoder_layer = autoencoder.layers[-1]\n",
        "# Create the decoder model\n",
        "decoder = keras.Model(encoded_input, decoder_layer(encoded_input))\n",
        "\n",
        "\n",
        "autoencoder.compile(optimizer='adam', loss='binary_crossentropy')\n",
        "autoencoder.summary()\n"
      ],
      "execution_count": null,
      "outputs": [
        {
          "output_type": "stream",
          "text": [
            "Model: \"model\"\n",
            "_________________________________________________________________\n",
            "Layer (type)                 Output Shape              Param #   \n",
            "=================================================================\n",
            "input_1 (InputLayer)         [(None, 784)]             0         \n",
            "_________________________________________________________________\n",
            "dense (Dense)                (None, 32)                25120     \n",
            "_________________________________________________________________\n",
            "dense_1 (Dense)              (None, 784)               25872     \n",
            "=================================================================\n",
            "Total params: 50,992\n",
            "Trainable params: 50,992\n",
            "Non-trainable params: 0\n",
            "_________________________________________________________________\n"
          ],
          "name": "stdout"
        }
      ]
    },
    {
      "cell_type": "code",
      "metadata": {
        "colab": {
          "base_uri": "https://localhost:8080/"
        },
        "id": "xzvZIHFNYUeF",
        "outputId": "d48dd93a-06ea-4752-a3fc-33b5eaf66980"
      },
      "source": [
        "from keras.datasets import mnist\n",
        "import numpy as np\n",
        "\n",
        "x0_train = x0_train.astype('float32') / 255.\n",
        "x0_test = x0_test.astype('float32') / 255.\n",
        "x0_train = x0_train.reshape((len(x0_train), np.prod(x0_train.shape[1:])))\n",
        "x0_test = x0_test.reshape((len(x0_test), np.prod(x0_test.shape[1:])))\n",
        "\n",
        "\n",
        "print(x0_train.shape)\n",
        "print(x0_test.shape)\n",
        "\n",
        "\n",
        "autoencoder.fit(x0_train, x0_train,\n",
        "                epochs=50,\n",
        "                batch_size=256,\n",
        "                shuffle=True,\n",
        "                validation_data=(x0_test, x0_test))\n"
      ],
      "execution_count": null,
      "outputs": [
        {
          "output_type": "stream",
          "text": [
            "(5330, 784)\n",
            "(593, 784)\n",
            "Epoch 1/50\n",
            "21/21 [==============================] - 1s 29ms/step - loss: 0.6537 - val_loss: 0.4035\n",
            "Epoch 2/50\n",
            "21/21 [==============================] - 0s 12ms/step - loss: 0.3431 - val_loss: 0.2689\n",
            "Epoch 3/50\n",
            "21/21 [==============================] - 0s 12ms/step - loss: 0.2608 - val_loss: 0.2516\n",
            "Epoch 4/50\n",
            "21/21 [==============================] - 0s 12ms/step - loss: 0.2449 - val_loss: 0.2362\n",
            "Epoch 5/50\n",
            "21/21 [==============================] - 0s 12ms/step - loss: 0.2288 - val_loss: 0.2227\n",
            "Epoch 6/50\n",
            "21/21 [==============================] - 0s 12ms/step - loss: 0.2152 - val_loss: 0.2114\n",
            "Epoch 7/50\n",
            "21/21 [==============================] - 0s 12ms/step - loss: 0.2055 - val_loss: 0.2029\n",
            "Epoch 8/50\n",
            "21/21 [==============================] - 0s 13ms/step - loss: 0.1972 - val_loss: 0.1964\n",
            "Epoch 9/50\n",
            "21/21 [==============================] - 0s 12ms/step - loss: 0.1916 - val_loss: 0.1915\n",
            "Epoch 10/50\n",
            "21/21 [==============================] - 0s 12ms/step - loss: 0.1869 - val_loss: 0.1871\n",
            "Epoch 11/50\n",
            "21/21 [==============================] - 0s 12ms/step - loss: 0.1821 - val_loss: 0.1829\n",
            "Epoch 12/50\n",
            "21/21 [==============================] - 0s 12ms/step - loss: 0.1787 - val_loss: 0.1787\n",
            "Epoch 13/50\n",
            "21/21 [==============================] - 0s 12ms/step - loss: 0.1747 - val_loss: 0.1751\n",
            "Epoch 14/50\n",
            "21/21 [==============================] - 0s 12ms/step - loss: 0.1715 - val_loss: 0.1716\n",
            "Epoch 15/50\n",
            "21/21 [==============================] - 0s 12ms/step - loss: 0.1669 - val_loss: 0.1684\n",
            "Epoch 16/50\n",
            "21/21 [==============================] - 0s 12ms/step - loss: 0.1651 - val_loss: 0.1652\n",
            "Epoch 17/50\n",
            "21/21 [==============================] - 0s 13ms/step - loss: 0.1619 - val_loss: 0.1624\n",
            "Epoch 18/50\n",
            "21/21 [==============================] - 0s 12ms/step - loss: 0.1597 - val_loss: 0.1598\n",
            "Epoch 19/50\n",
            "21/21 [==============================] - 0s 12ms/step - loss: 0.1564 - val_loss: 0.1571\n",
            "Epoch 20/50\n",
            "21/21 [==============================] - 0s 12ms/step - loss: 0.1538 - val_loss: 0.1547\n",
            "Epoch 21/50\n",
            "21/21 [==============================] - 0s 13ms/step - loss: 0.1516 - val_loss: 0.1524\n",
            "Epoch 22/50\n",
            "21/21 [==============================] - 0s 12ms/step - loss: 0.1496 - val_loss: 0.1505\n",
            "Epoch 23/50\n",
            "21/21 [==============================] - 0s 12ms/step - loss: 0.1462 - val_loss: 0.1485\n",
            "Epoch 24/50\n",
            "21/21 [==============================] - 0s 11ms/step - loss: 0.1450 - val_loss: 0.1465\n",
            "Epoch 25/50\n",
            "21/21 [==============================] - 0s 12ms/step - loss: 0.1434 - val_loss: 0.1447\n",
            "Epoch 26/50\n",
            "21/21 [==============================] - 0s 12ms/step - loss: 0.1411 - val_loss: 0.1430\n",
            "Epoch 27/50\n",
            "21/21 [==============================] - 0s 12ms/step - loss: 0.1391 - val_loss: 0.1415\n",
            "Epoch 28/50\n",
            "21/21 [==============================] - 0s 12ms/step - loss: 0.1371 - val_loss: 0.1398\n",
            "Epoch 29/50\n",
            "21/21 [==============================] - 0s 12ms/step - loss: 0.1357 - val_loss: 0.1383\n",
            "Epoch 30/50\n",
            "21/21 [==============================] - 0s 12ms/step - loss: 0.1345 - val_loss: 0.1368\n",
            "Epoch 31/50\n",
            "21/21 [==============================] - 0s 13ms/step - loss: 0.1332 - val_loss: 0.1353\n",
            "Epoch 32/50\n",
            "21/21 [==============================] - 0s 12ms/step - loss: 0.1310 - val_loss: 0.1340\n",
            "Epoch 33/50\n",
            "21/21 [==============================] - 0s 12ms/step - loss: 0.1298 - val_loss: 0.1327\n",
            "Epoch 34/50\n",
            "21/21 [==============================] - 0s 12ms/step - loss: 0.1289 - val_loss: 0.1315\n",
            "Epoch 35/50\n",
            "21/21 [==============================] - 0s 12ms/step - loss: 0.1280 - val_loss: 0.1303\n",
            "Epoch 36/50\n",
            "21/21 [==============================] - 0s 12ms/step - loss: 0.1261 - val_loss: 0.1291\n",
            "Epoch 37/50\n",
            "21/21 [==============================] - 0s 13ms/step - loss: 0.1257 - val_loss: 0.1281\n",
            "Epoch 38/50\n",
            "21/21 [==============================] - 0s 12ms/step - loss: 0.1247 - val_loss: 0.1270\n",
            "Epoch 39/50\n",
            "21/21 [==============================] - 0s 12ms/step - loss: 0.1228 - val_loss: 0.1260\n",
            "Epoch 40/50\n",
            "21/21 [==============================] - 0s 12ms/step - loss: 0.1226 - val_loss: 0.1251\n",
            "Epoch 41/50\n",
            "21/21 [==============================] - 0s 12ms/step - loss: 0.1214 - val_loss: 0.1242\n",
            "Epoch 42/50\n",
            "21/21 [==============================] - 0s 12ms/step - loss: 0.1198 - val_loss: 0.1232\n",
            "Epoch 43/50\n",
            "21/21 [==============================] - 0s 12ms/step - loss: 0.1197 - val_loss: 0.1224\n",
            "Epoch 44/50\n",
            "21/21 [==============================] - 0s 12ms/step - loss: 0.1186 - val_loss: 0.1216\n",
            "Epoch 45/50\n",
            "21/21 [==============================] - 0s 12ms/step - loss: 0.1183 - val_loss: 0.1209\n",
            "Epoch 46/50\n",
            "21/21 [==============================] - 0s 12ms/step - loss: 0.1172 - val_loss: 0.1201\n",
            "Epoch 47/50\n",
            "21/21 [==============================] - 0s 12ms/step - loss: 0.1165 - val_loss: 0.1194\n",
            "Epoch 48/50\n",
            "21/21 [==============================] - 0s 12ms/step - loss: 0.1159 - val_loss: 0.1187\n",
            "Epoch 49/50\n",
            "21/21 [==============================] - 0s 12ms/step - loss: 0.1156 - val_loss: 0.1180\n",
            "Epoch 50/50\n",
            "21/21 [==============================] - 0s 11ms/step - loss: 0.1145 - val_loss: 0.1174\n"
          ],
          "name": "stdout"
        },
        {
          "output_type": "execute_result",
          "data": {
            "text/plain": [
              "<tensorflow.python.keras.callbacks.History at 0x7f238e0bf710>"
            ]
          },
          "metadata": {
            "tags": []
          },
          "execution_count": 4
        }
      ]
    },
    {
      "cell_type": "code",
      "metadata": {
        "colab": {
          "base_uri": "https://localhost:8080/",
          "height": 240
        },
        "id": "TJaOoAblbMuh",
        "outputId": "04b2bba9-df96-49c1-d087-20910ff00ac5"
      },
      "source": [
        "\n",
        "# Encode and decode some digits\n",
        "# Note that we take them from the *test* set\n",
        "encoded_imgs = encoder.predict(x0_test)\n",
        "decoded_imgs = decoder.predict(encoded_imgs)\n",
        "# Use Matplotlib (don't ask)\n",
        "import matplotlib.pyplot as plt\n",
        "\n",
        "n = 10  # How many digits we will display\n",
        "plt.figure(figsize=(20, 4))\n",
        "for i in range(n):\n",
        "    # Display original\n",
        "    ax = plt.subplot(2, n, i + 1)\n",
        "    plt.imshow(x0_test[i].reshape(28, 28))\n",
        "    plt.gray()\n",
        "    ax.get_xaxis().set_visible(False)\n",
        "    ax.get_yaxis().set_visible(False)\n",
        "\n",
        "    # Display reconstruction\n",
        "    ax = plt.subplot(2, n, i + 1 + n)\n",
        "    plt.imshow(decoded_imgs[i].reshape(28, 28))\n",
        "    plt.gray()\n",
        "    ax.get_xaxis().set_visible(False)\n",
        "    ax.get_yaxis().set_visible(False)\n",
        "plt.show()"
      ],
      "execution_count": null,
      "outputs": [
        {
          "output_type": "display_data",
          "data": {
            "image/png": "[encoded data removed]",
            "text/plain": [
              "<Figure size 1440x288 with 20 Axes>"
            ]
          },
          "metadata": {
            "tags": [],
            "needs_background": "light"
          }
        }
      ]
    },
    {
      "cell_type": "code",
      "metadata": {
        "colab": {
          "base_uri": "https://localhost:8080/",
          "height": 240
        },
        "id": "pwiD--ec_mCQ",
        "outputId": "f8ee6c6c-7987-46c5-8266-8a614c5540b6"
      },
      "source": [
        "\n",
        "# Encode and decode some digits\n",
        "# Note that we take them from the *test* set\n",
        "decoded_imgs = autoencoder.predict(x0_test)\n",
        "# Use Matplotlib (don't ask)\n",
        "import matplotlib.pyplot as plt\n",
        "\n",
        "n = 10  # How many digits we will display\n",
        "plt.figure(figsize=(20, 4))\n",
        "for i in range(n):\n",
        "    # Display original\n",
        "    ax = plt.subplot(2, n, i + 1)\n",
        "    plt.imshow(x0_test[i].reshape(28, 28))\n",
        "    plt.gray()\n",
        "    ax.get_xaxis().set_visible(False)\n",
        "    ax.get_yaxis().set_visible(False)\n",
        "\n",
        "    # Display reconstruction\n",
        "    ax = plt.subplot(2, n, i + 1 + n)\n",
        "    plt.imshow(decoded_imgs[i].reshape(28, 28))\n",
        "    plt.gray()\n",
        "    ax.get_xaxis().set_visible(False)\n",
        "    ax.get_yaxis().set_visible(False)\n",
        "plt.show()"
      ],
      "execution_count": null,
      "outputs": [
        {
          "output_type": "display_data",
          "data": {
            "image/png": "[encoded data removed]",
            "text/plain": [
              "<Figure size 1440x288 with 20 Axes>"
            ]
          },
          "metadata": {
            "tags": [],
            "needs_background": "light"
          }
        }
      ]
    },
    {
      "cell_type": "code",
      "metadata": {
        "colab": {
          "base_uri": "https://localhost:8080/"
        },
        "id": "t0vXJTEkW15O",
        "outputId": "e356be5d-66d3-424a-e371-c7e6f0f787ea"
      },
      "source": [
        "\n",
        "input_img2 = Input(shape=(28, 28, 1)) \n",
        "\n",
        "x = Conv2D(32, (3, 3), activation='relu', padding='same')(input_img2)\n",
        "x = MaxPooling2D((2, 2), padding='same')(x)\n",
        "x = Conv2D(32, (3, 3), activation='relu', padding='same')(x)\n",
        "x = MaxPooling2D((2, 2), padding='same')(x)\n",
        "x = Conv2D(32, (3, 3), activation='relu', padding='same')(x)\n",
        "encoded2 = MaxPooling2D((2, 2), padding='same')(x)\n",
        "\n",
        "x = Conv2D(32, (3, 3), activation='relu', padding='same')(encoded2)\n",
        "x = UpSampling2D((2, 2))(x)\n",
        "x = Conv2D(32, (3, 3), activation='relu', padding='same')(x)\n",
        "x = UpSampling2D((2, 2))(x)\n",
        "x = Conv2D(32, (3, 3), activation='relu')(x)\n",
        "x = UpSampling2D((2, 2))(x)\n",
        "decoded2 = Conv2D(1, (3, 3), activation='sigmoid', padding='same')(x)\n",
        "\n",
        "autoencoder2 = Model(input_img2, decoded2)\n",
        "autoencoder2.compile(optimizer='adam', loss='binary_crossentropy')\n",
        "autoencoder2.summary()\n"
      ],
      "execution_count": null,
      "outputs": [
        {
          "output_type": "stream",
          "text": [
            "Model: \"model_3\"\n",
            "_________________________________________________________________\n",
            "Layer (type)                 Output Shape              Param #   \n",
            "=================================================================\n",
            "input_3 (InputLayer)         [(None, 28, 28, 1)]       0         \n",
            "_________________________________________________________________\n",
            "conv2d (Conv2D)              (None, 28, 28, 32)        320       \n",
            "_________________________________________________________________\n",
            "max_pooling2d (MaxPooling2D) (None, 14, 14, 32)        0         \n",
            "_________________________________________________________________\n",
            "conv2d_1 (Conv2D)            (None, 14, 14, 32)        9248      \n",
            "_________________________________________________________________\n",
            "max_pooling2d_1 (MaxPooling2 (None, 7, 7, 32)          0         \n",
            "_________________________________________________________________\n",
            "conv2d_2 (Conv2D)            (None, 7, 7, 32)          9248      \n",
            "_________________________________________________________________\n",
            "max_pooling2d_2 (MaxPooling2 (None, 4, 4, 32)          0         \n",
            "_________________________________________________________________\n",
            "conv2d_3 (Conv2D)            (None, 4, 4, 32)          9248      \n",
            "_________________________________________________________________\n",
            "up_sampling2d (UpSampling2D) (None, 8, 8, 32)          0         \n",
            "_________________________________________________________________\n",
            "conv2d_4 (Conv2D)            (None, 8, 8, 32)          9248      \n",
            "_________________________________________________________________\n",
            "up_sampling2d_1 (UpSampling2 (None, 16, 16, 32)        0         \n",
            "_________________________________________________________________\n",
            "conv2d_5 (Conv2D)            (None, 14, 14, 32)        9248      \n",
            "_________________________________________________________________\n",
            "up_sampling2d_2 (UpSampling2 (None, 28, 28, 32)        0         \n",
            "_________________________________________________________________\n",
            "conv2d_6 (Conv2D)            (None, 28, 28, 1)         289       \n",
            "=================================================================\n",
            "Total params: 46,849\n",
            "Trainable params: 46,849\n",
            "Non-trainable params: 0\n",
            "_________________________________________________________________\n"
          ],
          "name": "stdout"
        }
      ]
    },
    {
      "cell_type": "code",
      "metadata": {
        "colab": {
          "base_uri": "https://localhost:8080/"
        },
        "id": "lIDfIOfxbZho",
        "outputId": "38d75c87-346b-4e47-8c7b-3d54a2ddda7f"
      },
      "source": [
        "from keras.datasets import mnist\n",
        "import numpy as np\n",
        "\n",
        "(x_train,y_train),(_,_) = mnist.load_data()\n",
        "\n",
        "train_filter_6 = np.where((y_train == 6))\n",
        "train_filter_0 = np.where((y_train == 0))\n",
        "\n",
        "\n",
        "x0, y0 = x_train[train_filter_0],y_train[train_filter_0]\n",
        "x0_train, x0_test, y0_train, y0_test = train_test_split(x0, y0 ,test_size=0.1, random_state = 42)\n",
        "\n",
        "x0_train = x0_train.astype('float32') / 255.\n",
        "x0_test = x0_test.astype('float32') / 255.\n",
        "\n",
        "print(x0_train.shape)\n",
        "print(x0_test.shape)\n",
        "\n",
        "\n",
        "autoencoder2.fit(x0_train, x0_train,\n",
        "                epochs=50,\n",
        "                batch_size=256,\n",
        "                shuffle=True,\n",
        "                validation_data=(x0_test, x0_test))"
      ],
      "execution_count": null,
      "outputs": [
        {
          "output_type": "stream",
          "text": [
            "(5330, 28, 28)\n",
            "(593, 28, 28)\n",
            "Epoch 1/50\n",
            "21/21 [==============================] - 14s 649ms/step - loss: 0.5614 - val_loss: 0.3417\n",
            "Epoch 2/50\n",
            "21/21 [==============================] - 13s 643ms/step - loss: 0.3036 - val_loss: 0.2375\n",
            "Epoch 3/50\n",
            "21/21 [==============================] - 13s 640ms/step - loss: 0.2123 - val_loss: 0.1738\n",
            "Epoch 4/50\n",
            "21/21 [==============================] - 13s 637ms/step - loss: 0.1646 - val_loss: 0.1561\n",
            "Epoch 5/50\n",
            "21/21 [==============================] - 13s 639ms/step - loss: 0.1457 - val_loss: 0.1347\n",
            "Epoch 6/50\n",
            "21/21 [==============================] - 13s 639ms/step - loss: 0.1380 - val_loss: 0.1364\n",
            "Epoch 7/50\n",
            "21/21 [==============================] - 13s 638ms/step - loss: 0.1291 - val_loss: 0.1275\n",
            "Epoch 8/50\n",
            "21/21 [==============================] - 13s 637ms/step - loss: 0.1229 - val_loss: 0.1230\n",
            "Epoch 9/50\n",
            "21/21 [==============================] - 13s 643ms/step - loss: 0.1202 - val_loss: 0.1203\n",
            "Epoch 10/50\n",
            "21/21 [==============================] - 13s 642ms/step - loss: 0.1169 - val_loss: 0.1178\n",
            "Epoch 11/50\n",
            "21/21 [==============================] - 14s 647ms/step - loss: 0.1153 - val_loss: 0.1166\n",
            "Epoch 12/50\n",
            "21/21 [==============================] - 13s 642ms/step - loss: 0.1127 - val_loss: 0.1145\n",
            "Epoch 13/50\n",
            "21/21 [==============================] - 13s 640ms/step - loss: 0.1116 - val_loss: 0.1133\n",
            "Epoch 14/50\n",
            "21/21 [==============================] - 13s 640ms/step - loss: 0.1108 - val_loss: 0.1128\n",
            "Epoch 15/50\n",
            "21/21 [==============================] - 13s 640ms/step - loss: 0.1098 - val_loss: 0.1107\n",
            "Epoch 16/50\n",
            "21/21 [==============================] - 13s 639ms/step - loss: 0.1082 - val_loss: 0.1101\n",
            "Epoch 17/50\n",
            "21/21 [==============================] - 13s 639ms/step - loss: 0.1082 - val_loss: 0.1092\n",
            "Epoch 18/50\n",
            "21/21 [==============================] - 13s 639ms/step - loss: 0.1064 - val_loss: 0.1084\n",
            "Epoch 19/50\n",
            "21/21 [==============================] - 13s 638ms/step - loss: 0.1058 - val_loss: 0.1071\n",
            "Epoch 20/50\n",
            "21/21 [==============================] - 13s 638ms/step - loss: 0.1051 - val_loss: 0.1078\n",
            "Epoch 21/50\n",
            "21/21 [==============================] - 13s 640ms/step - loss: 0.1048 - val_loss: 0.1060\n",
            "Epoch 22/50\n",
            "21/21 [==============================] - 13s 639ms/step - loss: 0.1040 - val_loss: 0.1057\n",
            "Epoch 23/50\n",
            "21/21 [==============================] - 13s 640ms/step - loss: 0.1031 - val_loss: 0.1053\n",
            "Epoch 24/50\n",
            "21/21 [==============================] - 13s 638ms/step - loss: 0.1034 - val_loss: 0.1047\n",
            "Epoch 25/50\n",
            "21/21 [==============================] - 13s 638ms/step - loss: 0.1020 - val_loss: 0.1037\n",
            "Epoch 26/50\n",
            "21/21 [==============================] - 13s 640ms/step - loss: 0.1016 - val_loss: 0.1035\n",
            "Epoch 27/50\n",
            "21/21 [==============================] - 13s 641ms/step - loss: 0.1018 - val_loss: 0.1031\n",
            "Epoch 28/50\n",
            "21/21 [==============================] - 13s 639ms/step - loss: 0.1011 - val_loss: 0.1022\n",
            "Epoch 29/50\n",
            "21/21 [==============================] - 13s 639ms/step - loss: 0.1002 - val_loss: 0.1025\n",
            "Epoch 30/50\n",
            "21/21 [==============================] - 13s 637ms/step - loss: 0.1006 - val_loss: 0.1015\n",
            "Epoch 31/50\n",
            "21/21 [==============================] - 13s 638ms/step - loss: 0.0997 - val_loss: 0.1011\n",
            "Epoch 32/50\n",
            "21/21 [==============================] - 13s 637ms/step - loss: 0.0998 - val_loss: 0.1024\n",
            "Epoch 33/50\n",
            "21/21 [==============================] - 13s 638ms/step - loss: 0.0994 - val_loss: 0.1007\n",
            "Epoch 34/50\n",
            "21/21 [==============================] - 13s 639ms/step - loss: 0.0989 - val_loss: 0.1001\n",
            "Epoch 35/50\n",
            "21/21 [==============================] - 13s 637ms/step - loss: 0.0983 - val_loss: 0.1002\n",
            "Epoch 36/50\n",
            "21/21 [==============================] - 13s 643ms/step - loss: 0.0984 - val_loss: 0.1011\n",
            "Epoch 37/50\n",
            "21/21 [==============================] - 13s 641ms/step - loss: 0.0982 - val_loss: 0.1001\n",
            "Epoch 38/50\n",
            "21/21 [==============================] - 14s 655ms/step - loss: 0.0978 - val_loss: 0.0999\n",
            "Epoch 39/50\n",
            "21/21 [==============================] - 14s 652ms/step - loss: 0.0979 - val_loss: 0.0993\n",
            "Epoch 40/50\n",
            "21/21 [==============================] - 14s 656ms/step - loss: 0.0972 - val_loss: 0.0990\n",
            "Epoch 41/50\n",
            "21/21 [==============================] - 14s 658ms/step - loss: 0.0977 - val_loss: 0.0985\n",
            "Epoch 42/50\n",
            "21/21 [==============================] - 14s 653ms/step - loss: 0.0971 - val_loss: 0.0985\n",
            "Epoch 43/50\n",
            "21/21 [==============================] - 14s 657ms/step - loss: 0.0970 - val_loss: 0.0984\n",
            "Epoch 44/50\n",
            "21/21 [==============================] - 14s 657ms/step - loss: 0.0969 - val_loss: 0.0995\n",
            "Epoch 45/50\n",
            "21/21 [==============================] - 14s 664ms/step - loss: 0.0966 - val_loss: 0.0985\n",
            "Epoch 46/50\n",
            "21/21 [==============================] - 14s 653ms/step - loss: 0.0962 - val_loss: 0.0979\n",
            "Epoch 47/50\n",
            "21/21 [==============================] - 14s 652ms/step - loss: 0.0959 - val_loss: 0.0978\n",
            "Epoch 48/50\n",
            "21/21 [==============================] - 14s 647ms/step - loss: 0.0962 - val_loss: 0.0985\n",
            "Epoch 49/50\n",
            "21/21 [==============================] - 14s 644ms/step - loss: 0.0964 - val_loss: 0.0984\n",
            "Epoch 50/50\n",
            "21/21 [==============================] - 13s 638ms/step - loss: 0.0955 - val_loss: 0.0973\n"
          ],
          "name": "stdout"
        },
        {
          "output_type": "execute_result",
          "data": {
            "text/plain": [
              "<tensorflow.python.keras.callbacks.History at 0x7f23887fdc50>"
            ]
          },
          "metadata": {
            "tags": []
          },
          "execution_count": 8
        }
      ]
    },
    {
      "cell_type": "code",
      "metadata": {
        "colab": {
          "base_uri": "https://localhost:8080/",
          "height": 276
        },
        "id": "SvN_8rjzcYNM",
        "outputId": "68057942-5819-424a-d8a9-95e1fe313b50"
      },
      "source": [
        "\n",
        "# Encode and decode some digits\n",
        "# Note that we take them from the *test* set\n",
        "decoded_imgs2 = autoencoder2.predict(x0_test)\n",
        "\n",
        "print(x0_test.shape)\n",
        "print(decoded_imgs2.shape)\n",
        "\n",
        "decoded_imgs2 = np.array(decoded_imgs2)\n",
        "\n",
        "# Use Matplotlib (don't ask)\n",
        "import matplotlib.pyplot as plt\n",
        "\n",
        "n = 10  # How many digits we will display\n",
        "plt.figure(figsize=(20, 4))\n",
        "for i in range(n):\n",
        "    # Display original\n",
        "    ax = plt.subplot(2, n, i + 1)\n",
        "    plt.imshow(x0_test[i])\n",
        "    plt.gray()\n",
        "    ax.get_xaxis().set_visible(False)\n",
        "    ax.get_yaxis().set_visible(False)\n",
        "\n",
        "    # Display reconstruction\n",
        "    ax = plt.subplot(2, n, i + 1 + n)\n",
        "    plt.imshow(decoded_imgs2[i].reshape(28,28))\n",
        "    plt.gray()\n",
        "    ax.get_xaxis().set_visible(False)\n",
        "    ax.get_yaxis().set_visible(False)\n",
        "plt.show()"
      ],
      "execution_count": null,
      "outputs": [
        {
          "output_type": "stream",
          "text": [
            "(593, 28, 28)\n",
            "(593, 28, 28, 1)\n"
          ],
          "name": "stdout"
        },
        {
          "output_type": "display_data",
          "data": {
            "image/png": "[encoded data removed]",
            "text/plain": [
              "<Figure size 1440x288 with 20 Axes>"
            ]
          },
          "metadata": {
            "tags": [],
            "needs_background": "light"
          }
        }
      ]
    },
    {
      "cell_type": "code",
      "metadata": {
        "colab": {
          "base_uri": "https://localhost:8080/",
          "height": 269
        },
        "id": "jvr2Bfdb1XqV",
        "outputId": "c476ae61-da96-48e7-bd6f-71887bfad7fb"
      },
      "source": [
        "import numpy as np\n",
        "import matplotlib.pyplot as plt\n",
        "\n",
        "from skimage import data, img_as_float\n",
        "from skimage.metrics import structural_similarity as ssim\n",
        "from skimage.metrics import mean_squared_error\n",
        "\n",
        "\n",
        "img = x0_test[0].reshape(28, 28)\n",
        "rows, cols = img.shape\n",
        "\n",
        "img_const2 = decoded_imgs2[0].reshape(28,28)\n",
        "img_const = decoded_imgs[0].reshape(28,28)\n",
        "\n",
        "fig, axes = plt.subplots(nrows=1, ncols=3, figsize=(10, 4),\n",
        "                         sharex=True, sharey=True)\n",
        "ax = axes.ravel()\n",
        "\n",
        "mse_none = mean_squared_error(img, img)\n",
        "ssim_none = ssim(img, img, data_range=img.max() - img.min())\n",
        "\n",
        "mse_const = mean_squared_error(img, img_const)\n",
        "ssim_const = ssim(img, img_const, data_range=img_const.max() - img_const.min())\n",
        "\n",
        "mse_const2 = mean_squared_error(img, img_const2)\n",
        "ssim_const2 = ssim(img, img_const2,\n",
        "                  data_range=img_const2.max() - img_const2.min())\n",
        "\n",
        "label = 'MSE: {:.2f}, SSIM: {:.2f}'\n",
        "\n",
        "ax[0].imshow(img, cmap=plt.cm.gray, vmin=0, vmax=1)\n",
        "ax[0].set_xlabel(label.format(mse_none, ssim_none))\n",
        "ax[0].set_title('original')\n",
        "\n",
        "\n",
        "ax[1].imshow(img_const, cmap=plt.cm.gray, vmin=0, vmax=1)\n",
        "ax[1].set_xlabel(label.format(mse_const, ssim_const))\n",
        "ax[1].set_title('first autoencoder regular Class')\n",
        "\n",
        "\n",
        "ax[2].imshow(img_const2, cmap=plt.cm.gray, vmin=0, vmax=1)\n",
        "ax[2].set_xlabel(label.format(mse_const2, ssim_const2))\n",
        "ax[2].set_title('second autoencoder regular Class')\n",
        "\n",
        "plt.tight_layout()\n",
        "plt.show()"
      ],
      "execution_count": null,
      "outputs": [
        {
          "output_type": "display_data",
          "data": {
            "image/png": "[encoded data removed]",
            "text/plain": [
              "<Figure size 720x288 with 3 Axes>"
            ]
          },
          "metadata": {
            "tags": [],
            "needs_background": "light"
          }
        }
      ]
    },
    {
      "cell_type": "code",
      "metadata": {
        "colab": {
          "base_uri": "https://localhost:8080/"
        },
        "id": "3iEeF2YKFOAL",
        "outputId": "5adbeff1-3401-40ee-cb82-de24dc095cb0"
      },
      "source": [
        "\n",
        "x6, y6 = x_train[train_filter_6][:500],y_train[train_filter_6][:500]\n",
        "x6_train, x6_test, y6_train, y6_test = train_test_split(x6, y6, test_size=0.1, random_state = 42)\n",
        "\n",
        "x6_train = x6_train.astype('float32') / 255.\n",
        "x6_test = x6_test.astype('float32') / 255.\n",
        "x6_train = x6_train.reshape((len(x6_train), np.prod(x6_train.shape[1:])))\n",
        "x6_test = x6_test.reshape((len(x6_test), np.prod(x6_test.shape[1:])))\n",
        "print(x6_train.shape)\n",
        "print(x6_test.shape)\n",
        "\n",
        "\n",
        "autoencoder.fit(x6_train, x6_train,\n",
        "                epochs=50,\n",
        "                batch_size=256,\n",
        "                shuffle=True,\n",
        "                validation_data=(x6_test, x6_test))"
      ],
      "execution_count": null,
      "outputs": [
        {
          "output_type": "stream",
          "text": [
            "(450, 784)\n",
            "(50, 784)\n",
            "Epoch 1/50\n",
            "2/2 [==============================] - 0s 99ms/step - loss: 0.1081 - val_loss: 0.1105\n",
            "Epoch 2/50\n",
            "2/2 [==============================] - 0s 51ms/step - loss: 0.1078 - val_loss: 0.1103\n",
            "Epoch 3/50\n",
            "2/2 [==============================] - 0s 49ms/step - loss: 0.1075 - val_loss: 0.1101\n",
            "Epoch 4/50\n",
            "2/2 [==============================] - 0s 49ms/step - loss: 0.1073 - val_loss: 0.1099\n",
            "Epoch 5/50\n",
            "2/2 [==============================] - 0s 48ms/step - loss: 0.1070 - val_loss: 0.1097\n",
            "Epoch 6/50\n",
            "2/2 [==============================] - 0s 47ms/step - loss: 0.1067 - val_loss: 0.1095\n",
            "Epoch 7/50\n",
            "2/2 [==============================] - 0s 49ms/step - loss: 0.1065 - val_loss: 0.1093\n",
            "Epoch 8/50\n",
            "2/2 [==============================] - 0s 48ms/step - loss: 0.1063 - val_loss: 0.1092\n",
            "Epoch 9/50\n",
            "2/2 [==============================] - 0s 48ms/step - loss: 0.1060 - val_loss: 0.1090\n",
            "Epoch 10/50\n",
            "2/2 [==============================] - 0s 51ms/step - loss: 0.1058 - val_loss: 0.1088\n",
            "Epoch 11/50\n",
            "2/2 [==============================] - 0s 56ms/step - loss: 0.1055 - val_loss: 0.1087\n",
            "Epoch 12/50\n",
            "2/2 [==============================] - 0s 49ms/step - loss: 0.1053 - val_loss: 0.1085\n",
            "Epoch 13/50\n",
            "2/2 [==============================] - 0s 49ms/step - loss: 0.1051 - val_loss: 0.1083\n",
            "Epoch 14/50\n",
            "2/2 [==============================] - 0s 55ms/step - loss: 0.1049 - val_loss: 0.1081\n",
            "Epoch 15/50\n",
            "2/2 [==============================] - 0s 54ms/step - loss: 0.1046 - val_loss: 0.1080\n",
            "Epoch 16/50\n",
            "2/2 [==============================] - 0s 52ms/step - loss: 0.1044 - val_loss: 0.1078\n",
            "Epoch 17/50\n",
            "2/2 [==============================] - 0s 48ms/step - loss: 0.1042 - val_loss: 0.1076\n",
            "Epoch 18/50\n",
            "2/2 [==============================] - 0s 51ms/step - loss: 0.1040 - val_loss: 0.1075\n",
            "Epoch 19/50\n",
            "2/2 [==============================] - 0s 48ms/step - loss: 0.1038 - val_loss: 0.1074\n",
            "Epoch 20/50\n",
            "2/2 [==============================] - 0s 52ms/step - loss: 0.1036 - val_loss: 0.1072\n",
            "Epoch 21/50\n",
            "2/2 [==============================] - 0s 51ms/step - loss: 0.1034 - val_loss: 0.1071\n",
            "Epoch 22/50\n",
            "2/2 [==============================] - 0s 48ms/step - loss: 0.1032 - val_loss: 0.1070\n",
            "Epoch 23/50\n",
            "2/2 [==============================] - 0s 51ms/step - loss: 0.1030 - val_loss: 0.1068\n",
            "Epoch 24/50\n",
            "2/2 [==============================] - 0s 50ms/step - loss: 0.1028 - val_loss: 0.1066\n",
            "Epoch 25/50\n",
            "2/2 [==============================] - 0s 50ms/step - loss: 0.1027 - val_loss: 0.1065\n",
            "Epoch 26/50\n",
            "2/2 [==============================] - 0s 51ms/step - loss: 0.1025 - val_loss: 0.1064\n",
            "Epoch 27/50\n",
            "2/2 [==============================] - 0s 52ms/step - loss: 0.1023 - val_loss: 0.1063\n",
            "Epoch 28/50\n",
            "2/2 [==============================] - 0s 57ms/step - loss: 0.1021 - val_loss: 0.1061\n",
            "Epoch 29/50\n",
            "2/2 [==============================] - 0s 51ms/step - loss: 0.1019 - val_loss: 0.1060\n",
            "Epoch 30/50\n",
            "2/2 [==============================] - 0s 58ms/step - loss: 0.1017 - val_loss: 0.1058\n",
            "Epoch 31/50\n",
            "2/2 [==============================] - 0s 51ms/step - loss: 0.1016 - val_loss: 0.1057\n",
            "Epoch 32/50\n",
            "2/2 [==============================] - 0s 52ms/step - loss: 0.1014 - val_loss: 0.1056\n",
            "Epoch 33/50\n",
            "2/2 [==============================] - 0s 50ms/step - loss: 0.1012 - val_loss: 0.1055\n",
            "Epoch 34/50\n",
            "2/2 [==============================] - 0s 50ms/step - loss: 0.1011 - val_loss: 0.1054\n",
            "Epoch 35/50\n",
            "2/2 [==============================] - 0s 55ms/step - loss: 0.1009 - val_loss: 0.1052\n",
            "Epoch 36/50\n",
            "2/2 [==============================] - 0s 51ms/step - loss: 0.1007 - val_loss: 0.1051\n",
            "Epoch 37/50\n",
            "2/2 [==============================] - 0s 52ms/step - loss: 0.1006 - val_loss: 0.1050\n",
            "Epoch 38/50\n",
            "2/2 [==============================] - 0s 50ms/step - loss: 0.1004 - val_loss: 0.1049\n",
            "Epoch 39/50\n",
            "2/2 [==============================] - 0s 48ms/step - loss: 0.1002 - val_loss: 0.1048\n",
            "Epoch 40/50\n",
            "2/2 [==============================] - 0s 50ms/step - loss: 0.1001 - val_loss: 0.1047\n",
            "Epoch 41/50\n",
            "2/2 [==============================] - 0s 55ms/step - loss: 0.1000 - val_loss: 0.1046\n",
            "Epoch 42/50\n",
            "2/2 [==============================] - 0s 49ms/step - loss: 0.0998 - val_loss: 0.1044\n",
            "Epoch 43/50\n",
            "2/2 [==============================] - 0s 48ms/step - loss: 0.0996 - val_loss: 0.1044\n",
            "Epoch 44/50\n",
            "2/2 [==============================] - 0s 50ms/step - loss: 0.0995 - val_loss: 0.1042\n",
            "Epoch 45/50\n",
            "2/2 [==============================] - 0s 47ms/step - loss: 0.0993 - val_loss: 0.1041\n",
            "Epoch 46/50\n",
            "2/2 [==============================] - 0s 49ms/step - loss: 0.0992 - val_loss: 0.1040\n",
            "Epoch 47/50\n",
            "2/2 [==============================] - 0s 53ms/step - loss: 0.0990 - val_loss: 0.1040\n",
            "Epoch 48/50\n",
            "2/2 [==============================] - 0s 52ms/step - loss: 0.0989 - val_loss: 0.1039\n",
            "Epoch 49/50\n",
            "2/2 [==============================] - 0s 51ms/step - loss: 0.0988 - val_loss: 0.1038\n",
            "Epoch 50/50\n",
            "2/2 [==============================] - 0s 47ms/step - loss: 0.0986 - val_loss: 0.1037\n"
          ],
          "name": "stdout"
        },
        {
          "output_type": "execute_result",
          "data": {
            "text/plain": [
              "<tensorflow.python.keras.callbacks.History at 0x7f2388ac2610>"
            ]
          },
          "metadata": {
            "tags": []
          },
          "execution_count": 15
        }
      ]
    },
    {
      "cell_type": "code",
      "metadata": {
        "colab": {
          "base_uri": "https://localhost:8080/",
          "height": 240
        },
        "id": "iuGq2naWGOWw",
        "outputId": "a9ac5f7d-2f0a-4277-ab84-6f317cf5a0e1"
      },
      "source": [
        "# Encode and decode some digits\n",
        "# Note that we take them from the *test* set\n",
        "decoded_imgs = autoencoder.predict(x6_test)\n",
        "# Use Matplotlib (don't ask)\n",
        "import matplotlib.pyplot as plt\n",
        "\n",
        "n = 10  # How many digits we will display\n",
        "plt.figure(figsize=(20, 4))\n",
        "for i in range(n):\n",
        "    # Display original\n",
        "    ax = plt.subplot(2, n, i + 1)\n",
        "    plt.imshow(x6_test[i].reshape(28, 28))\n",
        "    plt.gray()\n",
        "    ax.get_xaxis().set_visible(False)\n",
        "    ax.get_yaxis().set_visible(False)\n",
        "\n",
        "    # Display reconstruction\n",
        "    ax = plt.subplot(2, n, i + 1 + n)\n",
        "    plt.imshow(decoded_imgs[i].reshape(28, 28))\n",
        "    plt.gray()\n",
        "    ax.get_xaxis().set_visible(False)\n",
        "    ax.get_yaxis().set_visible(False)\n",
        "plt.show()"
      ],
      "execution_count": null,
      "outputs": [
        {
          "output_type": "display_data",
          "data": {
            "image/png": "[encoded data removed]",
            "text/plain": [
              "<Figure size 1440x288 with 20 Axes>"
            ]
          },
          "metadata": {
            "tags": [],
            "needs_background": "light"
          }
        }
      ]
    },
    {
      "cell_type": "code",
      "metadata": {
        "colab": {
          "base_uri": "https://localhost:8080/"
        },
        "id": "xbr8UOkfGabs",
        "outputId": "fedf6263-70b8-4938-b059-63fc36ac5453"
      },
      "source": [
        "\n",
        "x6, y6 = x_train[train_filter_6][:500],y_train[train_filter_6][:500]\n",
        "x6_train, x6_test, y6_train, y6_test = train_test_split(x6, y6, test_size=0.1, random_state = 42)\n",
        "\n",
        "x6_train = x6_train.astype('float32') / 255.\n",
        "x6_test = x6_test.astype('float32') / 255.\n",
        "\n",
        "print(x6_train.shape)\n",
        "print(x6_test.shape)\n",
        "\n",
        "\n",
        "autoencoder2.fit(x6_train, x6_train,\n",
        "                epochs=50,\n",
        "                batch_size=256,\n",
        "                shuffle=True,\n",
        "                validation_data=(x6_test, x6_test))"
      ],
      "execution_count": null,
      "outputs": [
        {
          "output_type": "stream",
          "text": [
            "(450, 28, 28)\n",
            "(50, 28, 28)\n",
            "Epoch 1/50\n",
            "2/2 [==============================] - 1s 602ms/step - loss: 0.1453 - val_loss: 0.1425\n",
            "Epoch 2/50\n",
            "2/2 [==============================] - 1s 556ms/step - loss: 0.1454 - val_loss: 0.1298\n",
            "Epoch 3/50\n",
            "2/2 [==============================] - 1s 554ms/step - loss: 0.1271 - val_loss: 0.1217\n",
            "Epoch 4/50\n",
            "2/2 [==============================] - 1s 550ms/step - loss: 0.1224 - val_loss: 0.1176\n",
            "Epoch 5/50\n",
            "2/2 [==============================] - 1s 552ms/step - loss: 0.1190 - val_loss: 0.1155\n",
            "Epoch 6/50\n",
            "2/2 [==============================] - 1s 566ms/step - loss: 0.1161 - val_loss: 0.1143\n",
            "Epoch 7/50\n",
            "2/2 [==============================] - 1s 541ms/step - loss: 0.1143 - val_loss: 0.1114\n",
            "Epoch 8/50\n",
            "2/2 [==============================] - 1s 548ms/step - loss: 0.1119 - val_loss: 0.1099\n",
            "Epoch 9/50\n",
            "2/2 [==============================] - 1s 556ms/step - loss: 0.1101 - val_loss: 0.1095\n",
            "Epoch 10/50\n",
            "2/2 [==============================] - 1s 551ms/step - loss: 0.1090 - val_loss: 0.1085\n",
            "Epoch 11/50\n",
            "2/2 [==============================] - 1s 537ms/step - loss: 0.1078 - val_loss: 0.1068\n",
            "Epoch 12/50\n",
            "2/2 [==============================] - 1s 538ms/step - loss: 0.1066 - val_loss: 0.1055\n",
            "Epoch 13/50\n",
            "2/2 [==============================] - 1s 545ms/step - loss: 0.1055 - val_loss: 0.1045\n",
            "Epoch 14/50\n",
            "2/2 [==============================] - 1s 551ms/step - loss: 0.1044 - val_loss: 0.1034\n",
            "Epoch 15/50\n",
            "2/2 [==============================] - 1s 554ms/step - loss: 0.1036 - val_loss: 0.1031\n",
            "Epoch 16/50\n",
            "2/2 [==============================] - 1s 551ms/step - loss: 0.1027 - val_loss: 0.1021\n",
            "Epoch 17/50\n",
            "2/2 [==============================] - 1s 551ms/step - loss: 0.1020 - val_loss: 0.1015\n",
            "Epoch 18/50\n",
            "2/2 [==============================] - 1s 554ms/step - loss: 0.1015 - val_loss: 0.1007\n",
            "Epoch 19/50\n",
            "2/2 [==============================] - 1s 557ms/step - loss: 0.1007 - val_loss: 0.1003\n",
            "Epoch 20/50\n",
            "2/2 [==============================] - 1s 541ms/step - loss: 0.1003 - val_loss: 0.0999\n",
            "Epoch 21/50\n",
            "2/2 [==============================] - 1s 546ms/step - loss: 0.0998 - val_loss: 0.0995\n",
            "Epoch 22/50\n",
            "2/2 [==============================] - 1s 549ms/step - loss: 0.0994 - val_loss: 0.0991\n",
            "Epoch 23/50\n",
            "2/2 [==============================] - 1s 552ms/step - loss: 0.0990 - val_loss: 0.0992\n",
            "Epoch 24/50\n",
            "2/2 [==============================] - 1s 536ms/step - loss: 0.0987 - val_loss: 0.0988\n",
            "Epoch 25/50\n",
            "2/2 [==============================] - 1s 548ms/step - loss: 0.0983 - val_loss: 0.0985\n",
            "Epoch 26/50\n",
            "2/2 [==============================] - 1s 548ms/step - loss: 0.0979 - val_loss: 0.0981\n",
            "Epoch 27/50\n",
            "2/2 [==============================] - 1s 548ms/step - loss: 0.0976 - val_loss: 0.0981\n",
            "Epoch 28/50\n",
            "2/2 [==============================] - 1s 547ms/step - loss: 0.0973 - val_loss: 0.0977\n",
            "Epoch 29/50\n",
            "2/2 [==============================] - 1s 546ms/step - loss: 0.0970 - val_loss: 0.0975\n",
            "Epoch 30/50\n",
            "2/2 [==============================] - 1s 544ms/step - loss: 0.0967 - val_loss: 0.0973\n",
            "Epoch 31/50\n",
            "2/2 [==============================] - 1s 545ms/step - loss: 0.0964 - val_loss: 0.0970\n",
            "Epoch 32/50\n",
            "2/2 [==============================] - 1s 545ms/step - loss: 0.0961 - val_loss: 0.0971\n",
            "Epoch 33/50\n",
            "2/2 [==============================] - 1s 553ms/step - loss: 0.0960 - val_loss: 0.0967\n",
            "Epoch 34/50\n",
            "2/2 [==============================] - 1s 558ms/step - loss: 0.0958 - val_loss: 0.0969\n",
            "Epoch 35/50\n",
            "2/2 [==============================] - 1s 548ms/step - loss: 0.0956 - val_loss: 0.0963\n",
            "Epoch 36/50\n",
            "2/2 [==============================] - 1s 547ms/step - loss: 0.0954 - val_loss: 0.0962\n",
            "Epoch 37/50\n",
            "2/2 [==============================] - 1s 542ms/step - loss: 0.0951 - val_loss: 0.0962\n",
            "Epoch 38/50\n",
            "2/2 [==============================] - 1s 551ms/step - loss: 0.0949 - val_loss: 0.0959\n",
            "Epoch 39/50\n",
            "2/2 [==============================] - 1s 552ms/step - loss: 0.0947 - val_loss: 0.0960\n",
            "Epoch 40/50\n",
            "2/2 [==============================] - 1s 556ms/step - loss: 0.0946 - val_loss: 0.0956\n",
            "Epoch 41/50\n",
            "2/2 [==============================] - 1s 553ms/step - loss: 0.0943 - val_loss: 0.0954\n",
            "Epoch 42/50\n",
            "2/2 [==============================] - 1s 553ms/step - loss: 0.0941 - val_loss: 0.0953\n",
            "Epoch 43/50\n",
            "2/2 [==============================] - 1s 548ms/step - loss: 0.0939 - val_loss: 0.0952\n",
            "Epoch 44/50\n",
            "2/2 [==============================] - 1s 546ms/step - loss: 0.0937 - val_loss: 0.0950\n",
            "Epoch 45/50\n",
            "2/2 [==============================] - 1s 543ms/step - loss: 0.0936 - val_loss: 0.0949\n",
            "Epoch 46/50\n",
            "2/2 [==============================] - 1s 549ms/step - loss: 0.0934 - val_loss: 0.0948\n",
            "Epoch 47/50\n",
            "2/2 [==============================] - 1s 550ms/step - loss: 0.0932 - val_loss: 0.0946\n",
            "Epoch 48/50\n",
            "2/2 [==============================] - 1s 559ms/step - loss: 0.0930 - val_loss: 0.0944\n",
            "Epoch 49/50\n",
            "2/2 [==============================] - 1s 542ms/step - loss: 0.0929 - val_loss: 0.0944\n",
            "Epoch 50/50\n",
            "2/2 [==============================] - 1s 553ms/step - loss: 0.0927 - val_loss: 0.0944\n"
          ],
          "name": "stdout"
        },
        {
          "output_type": "execute_result",
          "data": {
            "text/plain": [
              "<tensorflow.python.keras.callbacks.History at 0x7f237d6db5d0>"
            ]
          },
          "metadata": {
            "tags": []
          },
          "execution_count": 17
        }
      ]
    },
    {
      "cell_type": "code",
      "metadata": {
        "colab": {
          "base_uri": "https://localhost:8080/",
          "height": 276
        },
        "id": "4urgx-9oGbFp",
        "outputId": "526fdad7-e8df-4477-9efe-49ac27bc0123"
      },
      "source": [
        "# Encode and decode some digits\n",
        "# Note that we take them from the *test* set\n",
        "decoded_imgs2 = autoencoder2.predict(x6_test)\n",
        "\n",
        "print(x6_test.shape)\n",
        "print(decoded_imgs2.shape)\n",
        "decoded_imgs2 = np.array(decoded_imgs2)\n",
        "\n",
        "# Use Matplotlib (don't ask)\n",
        "import matplotlib.pyplot as plt\n",
        "\n",
        "n = 10  # How many digits we will display\n",
        "plt.figure(figsize=(20, 4))\n",
        "for i in range(n):\n",
        "    # Display original\n",
        "    ax = plt.subplot(2, n, i + 1)\n",
        "    plt.imshow(x6_test[i].reshape(28, 28))\n",
        "    plt.gray()\n",
        "    ax.get_xaxis().set_visible(False)\n",
        "    ax.get_yaxis().set_visible(False)\n",
        "\n",
        "    # Display reconstruction\n",
        "    ax = plt.subplot(2, n, i + 1 + n)\n",
        "    plt.imshow(decoded_imgs2[i].reshape(28,28))\n",
        "    plt.gray()\n",
        "    ax.get_xaxis().set_visible(False)\n",
        "    ax.get_yaxis().set_visible(False)\n",
        "plt.show()"
      ],
      "execution_count": null,
      "outputs": [
        {
          "output_type": "stream",
          "text": [
            "(50, 28, 28)\n",
            "(50, 28, 28, 1)\n"
          ],
          "name": "stdout"
        },
        {
          "output_type": "display_data",
          "data": {
            "image/png": "[encoded data removed]",
            "text/plain": [
              "<Figure size 1440x288 with 20 Axes>"
            ]
          },
          "metadata": {
            "tags": [],
            "needs_background": "light"
          }
        }
      ]
    },
    {
      "cell_type": "code",
      "metadata": {
        "colab": {
          "base_uri": "https://localhost:8080/",
          "height": 269
        },
        "id": "7RSQAwraI-uv",
        "outputId": "2992f771-0f6c-4d7a-f50a-9bb4327b0341"
      },
      "source": [
        "import numpy as np\n",
        "import matplotlib.pyplot as plt\n",
        "\n",
        "from skimage import data, img_as_float\n",
        "from skimage.metrics import structural_similarity as ssim\n",
        "from skimage.metrics import mean_squared_error\n",
        "\n",
        "\n",
        "img = x6_test[0].reshape(28, 28)\n",
        "rows, cols = img.shape\n",
        "\n",
        "img_const2 = decoded_imgs2[0].reshape(28,28)\n",
        "img_const = decoded_imgs[0].reshape(28,28)\n",
        "\n",
        "fig, axes = plt.subplots(nrows=1, ncols=3, figsize=(10, 4),\n",
        "                         sharex=True, sharey=True)\n",
        "ax = axes.ravel()\n",
        "\n",
        "mse_none = mean_squared_error(img, img)\n",
        "ssim_none = ssim(img, img, data_range=img.max() - img.min())\n",
        "\n",
        "mse_const = mean_squared_error(img, img_const)\n",
        "ssim_const = ssim(img, img_const, data_range=img_const.max() - img_const.min())\n",
        "\n",
        "mse_const2 = mean_squared_error(img, img_const2)\n",
        "ssim_const2 = ssim(img, img_const2,\n",
        "                  data_range=img_const2.max() - img_const2.min())\n",
        "\n",
        "label = 'MSE: {:.2f}, SSIM: {:.2f}'\n",
        "\n",
        "ax[0].imshow(img, cmap=plt.cm.gray, vmin=0, vmax=1)\n",
        "ax[0].set_xlabel(label.format(mse_none, ssim_none))\n",
        "ax[0].set_title('original')\n",
        "\n",
        "\n",
        "ax[1].imshow(img_const, cmap=plt.cm.gray, vmin=0, vmax=1)\n",
        "ax[1].set_xlabel(label.format(mse_const, ssim_const))\n",
        "ax[1].set_title('first autoencoder regular Class')\n",
        "\n",
        "\n",
        "ax[2].imshow(img_const2, cmap=plt.cm.gray, vmin=0, vmax=1)\n",
        "ax[2].set_xlabel(label.format(mse_const2, ssim_const2))\n",
        "ax[2].set_title('second autoencoder regular Class')\n",
        "\n",
        "plt.tight_layout()\n",
        "plt.show()"
      ],
      "execution_count": null,
      "outputs": [
        {
          "output_type": "display_data",
          "data": {
            "image/png": "[encoded data removed]",
            "text/plain": [
              "<Figure size 720x288 with 3 Axes>"
            ]
          },
          "metadata": {
            "tags": [],
            "needs_background": "light"
          }
        }
      ]
    },
    {
      "cell_type": "markdown",
      "metadata": {
        "id": "nJKqIv637OU1"
      },
      "source": [
        "The reconstruction loss error for outlier class is greater than the reconstruction loss for regular class. When the reconstruction loss is lower it means that the reconstruction action done better. The model is trained with the regular class so we are expecting that this thing happen. SSIM shows how images are the same as each other.when it is near to 1,the reconstruction better matches with the original image.  for reglar class it is more near to 1 and shows that reconstruction action is done better.(for regular is 0.96 for outlier class is 0.91)."
      ]
    }
  ]
}